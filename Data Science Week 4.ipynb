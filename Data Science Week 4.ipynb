{
  "metadata": {
    "language_info": {
      "codemirror_mode": {
        "name": "python",
        "version": 3
      },
      "file_extension": ".py",
      "mimetype": "text/x-python",
      "name": "python",
      "nbconvert_exporter": "python",
      "pygments_lexer": "ipython3",
      "version": "3.8"
    },
    "kernelspec": {
      "name": "python",
      "display_name": "Pyolite",
      "language": "python"
    }
  },
  "nbformat_minor": 4,
  "nbformat": 4,
  "cells": [
    {
      "cell_type": "markdown",
      "source": "# My Jupyter Notebook on IBM Watson Studio",
      "metadata": {}
    },
    {
      "cell_type": "markdown",
      "source": "**Damian Cortes**  \nManager",
      "metadata": {}
    },
    {
      "cell_type": "markdown",
      "source": "*I am interested in data science as way to expand my analytical skillset*",
      "metadata": {}
    },
    {
      "cell_type": "markdown",
      "source": "### Simple math in cell 5 that calculates 1 + 1",
      "metadata": {}
    },
    {
      "cell_type": "code",
      "source": "1+1",
      "metadata": {
        "trusted": true
      },
      "execution_count": 3,
      "outputs": [
        {
          "execution_count": 3,
          "output_type": "execute_result",
          "data": {
            "text/plain": "2"
          },
          "metadata": {}
        }
      ]
    },
    {
      "cell_type": "markdown",
      "source": "1. First numbered item\n2. Second numbered item\n* First bulleted item\n* Second bulleted item\n* Third bulleted item that also [links to Google](www.google.com)",
      "metadata": {}
    }
  ]
}